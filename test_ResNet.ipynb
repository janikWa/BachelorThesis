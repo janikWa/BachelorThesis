version https://git-lfs.github.com/spec/v1
oid sha256:c4f8ad491eb3a3190d576fc890f378a44b31955f333d70c4e00777b117637ffb
size 361668820
